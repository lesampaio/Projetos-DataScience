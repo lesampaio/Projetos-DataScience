{
 "cells": [
  {
   "cell_type": "markdown",
   "metadata": {},
   "source": [
    "[OpenCV Tutorial](https://opencv24-python-tutorials.readthedocs.io/en/stable/py_tutorials/py_calib3d/py_calibration/py_calibration.html) - How to Calculate Reprojectio Error"
   ]
  },
  {
   "cell_type": "markdown",
   "metadata": {},
   "source": [
    "We need to find five parameters, known as distortion coefficients given by: (k1 k2 p1 p2 k3) <br>\n",
    "In addition to this, we need to find a few more information, like intrinsic and extrinsic parameters of a camera.\n",
    "\n",
    "Summary\n",
    "1. For stereo applications, these distortions need to be corrected first. \n",
    "2. To find all these parameters, what we have to do is to provide some sample images of a well defined pattern (eg, chess board). We find some specific points in it ( square corners in chess board). 3D points are called object points and 2D image points are called image points.\n",
    "3. We know its coordinates in real world space and we know its coordinates in image. \n",
    "4. With these data, some mathematical problem is solved in background to get the distortion coefficients.\n",
    "5. We need atleast 10 test patterns."
   ]
  },
  {
   "cell_type": "markdown",
   "metadata": {},
   "source": [
    "Setup"
   ]
  },
  {
   "cell_type": "code",
   "execution_count": 1,
   "metadata": {},
   "outputs": [],
   "source": [
    "import numpy as np\n",
    "import cv2\n",
    "import glob"
   ]
  },
  {
   "cell_type": "markdown",
   "metadata": {},
   "source": [
    "- criteria： it is the iteration termination criterion when this condition is met，algorithm iteration stops, actually，it should be a tuple of three arguments they are (type，max_iter，epsilon）"
   ]
  },
  {
   "cell_type": "code",
   "execution_count": 2,
   "metadata": {},
   "outputs": [],
   "source": [
    "# Define termination criteria = ( type, max_iter = 30 , epsilon = 0.001 )\n",
    "criteria = (cv2.TERM_CRITERIA_EPS + cv2.TERM_CRITERIA_MAX_ITER, 30, 0.001)"
   ]
  },
  {
   "cell_type": "code",
   "execution_count": null,
   "metadata": {},
   "outputs": [],
   "source": [
    "# Prepare object points, like (0,0,0), (1,0,0), (2,0,0) ....,(6,5,0)\n",
    "objp = np.zeros((6*7,3), np.float32)\n",
    "objp[:,:2] = np.mgrid[0:7,0:6].T.reshape(-1,2)"
   ]
  },
  {
   "cell_type": "code",
   "execution_count": 4,
   "metadata": {},
   "outputs": [],
   "source": [
    "# Arrays to store object points and image points from all the images.\n",
    "objpoints = [] # 3d point in real world space\n",
    "imgpoints = [] # 2d points in image plane\n",
    "\n",
    "# creates a list of strings of filepaths to image files\n",
    "images = sorted(glob.glob('images/left??.jpg'))"
   ]
  },
  {
   "cell_type": "code",
   "execution_count": 5,
   "metadata": {},
   "outputs": [],
   "source": [
    "# image\n",
    "img = cv2.imread(images[0])\n",
    "gray = cv2.cvtColor(img,cv2.COLOR_BGR2GRAY)\n",
    "\n",
    "# Find the chess board corners\n",
    "marker_detected, corners = cv2.findChessboardCorners(gray, (7,6), None)\n",
    "\n",
    "# Draw and display the corners\n",
    "objpoints.append(objp) #gerei\n",
    "corners2 = cv2.cornerSubPix(gray,corners,(11,11),(-1,-1),criteria) # aumentar acuracia\n",
    "imgpoints.append(corners2) #gerei + aumentei acuracia"
   ]
  },
  {
   "cell_type": "code",
   "execution_count": null,
   "metadata": {},
   "outputs": [],
   "source": [
    "# display image\n",
    "img = cv2.drawChessboardCorners(img, (7,6), corners2, marker_detected)\n",
    "cv2.imshow('img',img)\n",
    "cv2.waitKey(500)"
   ]
  },
  {
   "cell_type": "markdown",
   "metadata": {},
   "source": [
    "Calibration"
   ]
  },
  {
   "cell_type": "code",
   "execution_count": 6,
   "metadata": {},
   "outputs": [],
   "source": [
    "ret, mtx, dist, rvecs, tvecs = cv2.calibrateCamera(objpoints, imgpoints, gray.shape[::-1],None,None)"
   ]
  },
  {
   "cell_type": "markdown",
   "metadata": {},
   "source": [
    "**Undistortion** <br>\n",
    "We have got what we were trying:\n",
    "- Object and image points\n",
    "- Camera calibration (intrinsics and extrinsics)\n",
    "\n",
    "Now we can take an image and undistort it."
   ]
  },
  {
   "cell_type": "code",
   "execution_count": 12,
   "metadata": {},
   "outputs": [],
   "source": [
    "# We can refine the camera matrix based on a free scaling parameter using cv2.getOptimalNewCameraMatrix()\n",
    "img = cv2.imread('images/left12.jpg')\n",
    "h, w = img.shape[:2]\n",
    "newcameramtx, roi = cv2.getOptimalNewCameraMatrix(mtx,dist,(w,h),1,(w,h))"
   ]
  },
  {
   "cell_type": "code",
   "execution_count": 14,
   "metadata": {},
   "outputs": [
    {
     "data": {
      "text/plain": [
       "True"
      ]
     },
     "execution_count": 14,
     "metadata": {},
     "output_type": "execute_result"
    }
   ],
   "source": [
    "# undistort\n",
    "dst = cv2.undistort(img, mtx, dist, None, newcameramtx)\n",
    "\n",
    "# crop the image\n",
    "x,y,w,h = roi\n",
    "dst = dst[y:y+h, x:x+w]\n",
    "cv2.imwrite('calibresult.png',dst)"
   ]
  },
  {
   "cell_type": "markdown",
   "metadata": {},
   "source": [
    "**Reprojection Error** <br>\n",
    "Reprojection error gives a good estimation of just how exact is the found parameters. This should be as close to zero as possible. Given the intrinsic, distortion, rotation and translation matrices: \n",
    "1. We first transform the object point to image point using cv2.projectPoints(). \n",
    "2. Then we calculate the absolute norm between what we got with our transformation (ground truth) and the corner finding algorithm.\n",
    "3. Find the average error we calculate the arithmetical mean of the errors calculate for all the calibration images."
   ]
  },
  {
   "cell_type": "code",
   "execution_count": 17,
   "metadata": {},
   "outputs": [
    {
     "name": "stdout",
     "output_type": "stream",
     "text": [
      "Reprojection Error:  0.022552185443330906\n"
     ]
    }
   ],
   "source": [
    "mean_error = 0\n",
    "for i in range(len(objpoints)):\n",
    "    imgpoints2, _ = cv2.projectPoints(objpoints[i], rvecs[i], tvecs[i], mtx, dist)\n",
    "    error = cv2.norm(imgpoints[i],imgpoints2, cv2.NORM_L2)/len(imgpoints2)\n",
    "    mean_error += error\n",
    "\n",
    "print (\"Reprojection Error: \", mean_error/len(objpoints))"
   ]
  }
 ],
 "metadata": {
  "interpreter": {
   "hash": "bddda1f82d4203a8cfed008510cec7cf9ffa58de3e980ce9af41caeee947fca0"
  },
  "kernelspec": {
   "display_name": "Python 3.9.1 ('base')",
   "language": "python",
   "name": "python3"
  },
  "language_info": {
   "codemirror_mode": {
    "name": "ipython",
    "version": 3
   },
   "file_extension": ".py",
   "mimetype": "text/x-python",
   "name": "python",
   "nbconvert_exporter": "python",
   "pygments_lexer": "ipython3",
   "version": "3.9.1"
  },
  "orig_nbformat": 4
 },
 "nbformat": 4,
 "nbformat_minor": 2
}
