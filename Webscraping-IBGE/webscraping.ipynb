{
 "cells": [
  {
   "cell_type": "markdown",
   "source": [
    "# **Importar bibliotecas**"
   ],
   "metadata": {}
  },
  {
   "cell_type": "code",
   "execution_count": 1,
   "source": [
    "import re\n",
    "import requests\n",
    "import numpy as np\n",
    "import pandas as pd\n",
    "from bs4 import BeautifulSoup"
   ],
   "outputs": [],
   "metadata": {}
  },
  {
   "cell_type": "markdown",
   "source": [
    "# **Fazer o request**  "
   ],
   "metadata": {}
  },
  {
   "cell_type": "code",
   "execution_count": 2,
   "source": [
    "url = \"https://www.ibge.gov.br/indicadores.html\"\n",
    "pagina = requests.get(url)"
   ],
   "outputs": [],
   "metadata": {}
  },
  {
   "cell_type": "markdown",
   "source": [
    "# **Filtrar e selecionar o conteudo das tabelas**"
   ],
   "metadata": {}
  },
  {
   "cell_type": "code",
   "execution_count": 3,
   "source": [
    "soup = BeautifulSoup(pagina.content, \"html.parser\")\n",
    "\n",
    "# Selecionar tabela\n",
    "tabela = soup.find(class_=\"indicadores-tabela indicadores-economicos\")\n",
    "\n",
    "# Selecionar titulo\n",
    "titulo = soup.find(\"th\", class_=\"ultimo\").text\n",
    "\n",
    "# Selecionar index\n",
    "rows = tabela.find_all(class_=\"nonsprite\")\n",
    "index = [id.text for id in rows]\n",
    "\n",
    "# Selecionar conteudo\n",
    "conteudo = tabela.find_all(class_=re.compile(r\"table\\-accordion.+\"))"
   ],
   "outputs": [],
   "metadata": {}
  },
  {
   "cell_type": "code",
   "execution_count": 4,
   "source": [
    "def filterCols(col_class):\n",
    "    \"\"\"\n",
    "    Funcao criada para selecionar as colunas da tabela\n",
    "    \"\"\"\n",
    "    return [\"vazio\" if conteudo[n].find(class_=col_class) is None else conteudo[n].find(class_=col_class).text for n in list(range(0,20,2))]"
   ],
   "outputs": [],
   "metadata": {}
  },
  {
   "cell_type": "code",
   "execution_count": 5,
   "source": [
    "# Coluna ultimo\n",
    "ultimo = filterCols(\"ultimo\")\n",
    "\n",
    "# Coluna anterior\n",
    "anterior = filterCols(\"desktop-tablet-only anterior\")\n",
    "\n",
    "# Coluna doze meses\n",
    "doze_meses = filterCols(\"desktop-tablet-only dozemeses\")\n",
    "\n",
    "# Coluna anual\n",
    "anual = filterCols(\"desktop-tablet-only ano\")"
   ],
   "outputs": [],
   "metadata": {}
  },
  {
   "cell_type": "markdown",
   "source": [
    "# **Limpeza dos dados**"
   ],
   "metadata": {}
  },
  {
   "cell_type": "code",
   "execution_count": 6,
   "source": [
    "index = [re.sub(r\"\\n|^\\r\\n\", \"\", id).strip() for id in index]"
   ],
   "outputs": [],
   "metadata": {}
  },
  {
   "cell_type": "code",
   "execution_count": 7,
   "source": [
    "dataset = pd.DataFrame({\"Último\": ultimo, \"Anterior\": anterior, \"Doze meses\": doze_meses, \"No ano\": anual}, index = index).rename_axis(titulo, axis=0)"
   ],
   "outputs": [],
   "metadata": {}
  },
  {
   "cell_type": "code",
   "execution_count": 44,
   "source": [
    "def cleaningCols(col_index):\n",
    "    \"\"\"\n",
    "    Funcao criada para limpar e padronizar os dados das colunas, \n",
    "    realizando selecao e substituicao de caracteres \n",
    "    e alterando seu dtype para float\n",
    "    \"\"\"\n",
    "    coluna = dataset.iloc[:, col_index].str.findall(r\"\\d{0,4}\\.?\\d{1,5}\\,\\d\\d?\")\n",
    "    coluna = coluna.apply(lambda n: n[0] if len(n) > 0 else '-')\n",
    "    \n",
    "    df = coluna.replace({'\\.': '', ',': '.', '-': np.nan}, regex=True)\n",
    "    \n",
    "    df = df.astype(\"float\")\n",
    "\n",
    "    return df"
   ],
   "outputs": [],
   "metadata": {}
  },
  {
   "cell_type": "code",
   "execution_count": 47,
   "source": [
    "# Coluna Ultimo\n",
    "dataset[\"Último\"] = cleaningCols(0)\n",
    "\n",
    "# Coluna Anterior\n",
    "dataset[\"Anterior\"] = cleaningCols(1)\n",
    "\n",
    "# Coluna Doze meses\n",
    "dataset[\"Doze meses\"] = cleaningCols(2)\n",
    "\n",
    "# Coluna No ano\n",
    "dataset[\"No ano\"] = cleaningCols(3)"
   ],
   "outputs": [],
   "metadata": {}
  },
  {
   "cell_type": "code",
   "execution_count": 54,
   "source": [
    "dataset"
   ],
   "outputs": [
    {
     "output_type": "execute_result",
     "data": {
      "text/plain": [
       "                          Último  Anterior  Doze meses  No ano\n",
       "Indicadores econômicos                                        \n",
       "IPCA (%)                    0.96      0.53        8.99    4.76\n",
       "INPC (%)                    1.02      0.60        9.85    5.01\n",
       "IPCA-15 (%)                 0.72      0.83        8.59    4.88\n",
       "IPP (%)                     1.31      0.99       36.81   19.11\n",
       "Custo do m² (%)             1.89      2.46       22.60   13.49\n",
       "Variação do PIB (%)         1.00      1.10        3.80    1.00\n",
       "PIB per capita (R$)     33593.82  31843.95         NaN     NaN\n",
       "Indústria (%)               0.00      1.40        6.60   12.90\n",
       "Comércio (%)                1.70      2.70        5.90    6.70\n",
       "Serviços (%)                1.70      1.70        0.40    9.50"
      ],
      "text/html": [
       "<div>\n",
       "<style scoped>\n",
       "    .dataframe tbody tr th:only-of-type {\n",
       "        vertical-align: middle;\n",
       "    }\n",
       "\n",
       "    .dataframe tbody tr th {\n",
       "        vertical-align: top;\n",
       "    }\n",
       "\n",
       "    .dataframe thead th {\n",
       "        text-align: right;\n",
       "    }\n",
       "</style>\n",
       "<table border=\"1\" class=\"dataframe\">\n",
       "  <thead>\n",
       "    <tr style=\"text-align: right;\">\n",
       "      <th></th>\n",
       "      <th>Último</th>\n",
       "      <th>Anterior</th>\n",
       "      <th>Doze meses</th>\n",
       "      <th>No ano</th>\n",
       "    </tr>\n",
       "    <tr>\n",
       "      <th>Indicadores econômicos</th>\n",
       "      <th></th>\n",
       "      <th></th>\n",
       "      <th></th>\n",
       "      <th></th>\n",
       "    </tr>\n",
       "  </thead>\n",
       "  <tbody>\n",
       "    <tr>\n",
       "      <th>IPCA (%)</th>\n",
       "      <td>0.96</td>\n",
       "      <td>0.53</td>\n",
       "      <td>8.99</td>\n",
       "      <td>4.76</td>\n",
       "    </tr>\n",
       "    <tr>\n",
       "      <th>INPC (%)</th>\n",
       "      <td>1.02</td>\n",
       "      <td>0.60</td>\n",
       "      <td>9.85</td>\n",
       "      <td>5.01</td>\n",
       "    </tr>\n",
       "    <tr>\n",
       "      <th>IPCA-15 (%)</th>\n",
       "      <td>0.72</td>\n",
       "      <td>0.83</td>\n",
       "      <td>8.59</td>\n",
       "      <td>4.88</td>\n",
       "    </tr>\n",
       "    <tr>\n",
       "      <th>IPP (%)</th>\n",
       "      <td>1.31</td>\n",
       "      <td>0.99</td>\n",
       "      <td>36.81</td>\n",
       "      <td>19.11</td>\n",
       "    </tr>\n",
       "    <tr>\n",
       "      <th>Custo do m² (%)</th>\n",
       "      <td>1.89</td>\n",
       "      <td>2.46</td>\n",
       "      <td>22.60</td>\n",
       "      <td>13.49</td>\n",
       "    </tr>\n",
       "    <tr>\n",
       "      <th>Variação do PIB (%)</th>\n",
       "      <td>1.00</td>\n",
       "      <td>1.10</td>\n",
       "      <td>3.80</td>\n",
       "      <td>1.00</td>\n",
       "    </tr>\n",
       "    <tr>\n",
       "      <th>PIB per capita (R$)</th>\n",
       "      <td>33593.82</td>\n",
       "      <td>31843.95</td>\n",
       "      <td>NaN</td>\n",
       "      <td>NaN</td>\n",
       "    </tr>\n",
       "    <tr>\n",
       "      <th>Indústria (%)</th>\n",
       "      <td>0.00</td>\n",
       "      <td>1.40</td>\n",
       "      <td>6.60</td>\n",
       "      <td>12.90</td>\n",
       "    </tr>\n",
       "    <tr>\n",
       "      <th>Comércio (%)</th>\n",
       "      <td>1.70</td>\n",
       "      <td>2.70</td>\n",
       "      <td>5.90</td>\n",
       "      <td>6.70</td>\n",
       "    </tr>\n",
       "    <tr>\n",
       "      <th>Serviços (%)</th>\n",
       "      <td>1.70</td>\n",
       "      <td>1.70</td>\n",
       "      <td>0.40</td>\n",
       "      <td>9.50</td>\n",
       "    </tr>\n",
       "  </tbody>\n",
       "</table>\n",
       "</div>"
      ]
     },
     "metadata": {},
     "execution_count": 54
    }
   ],
   "metadata": {}
  },
  {
   "cell_type": "markdown",
   "source": [
    "# **Exportar arquivo em formato excel**"
   ],
   "metadata": {}
  },
  {
   "cell_type": "code",
   "execution_count": 58,
   "source": [
    "dataset.to_excel(f\"planilha_ibge_{titulo}.xlsx\")"
   ],
   "outputs": [],
   "metadata": {}
  }
 ],
 "metadata": {
  "kernelspec": {
   "name": "python3",
   "display_name": "Python 3.9.6 64-bit ('datascience': conda)"
  },
  "language_info": {
   "codemirror_mode": {
    "name": "ipython",
    "version": 3
   },
   "file_extension": ".py",
   "mimetype": "text/x-python",
   "name": "python",
   "nbconvert_exporter": "python",
   "pygments_lexer": "ipython3",
   "version": "3.9.6"
  },
  "interpreter": {
   "hash": "aa5c80b4bff78a815e6574ff1050a04b68e1e145e951e5a22367d9d8dead012d"
  }
 },
 "nbformat": 4,
 "nbformat_minor": 5
}